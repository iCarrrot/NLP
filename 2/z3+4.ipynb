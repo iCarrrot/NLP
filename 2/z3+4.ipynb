{
 "cells": [
  {
   "cell_type": "markdown",
   "metadata": {},
   "source": [
    "# z3"
   ]
  },
  {
   "cell_type": "code",
   "execution_count": 1,
   "metadata": {},
   "outputs": [],
   "source": [
    "import re\n",
    "import numpy as np\n",
    "\n",
    "word2tag = dict()\n",
    "tag2word = dict()\n",
    "def stringNorm(sent, num=False):\n",
    "    regex = re.compile(f'[,\\.!?:;\\'{\"0-9\" if not num else \"\"}\\*\\-“…\\(\\)„”—»«–––=\\[\\]’]')\n",
    "    return regex.sub('',sent.lower())\n",
    "\n",
    "with open(\"data/supertags.txt\") as tags:\n",
    "    for line in tags:\n",
    "        word, tag = stringNorm(line, num=True).split()\n",
    "        word2tag[word] = tag\n",
    "        if tag in tag2word:\n",
    "            tag2word[tag].append(word)\n",
    "        else:\n",
    "            tag2word[tag] = [word]"
   ]
  },
  {
   "cell_type": "code",
   "execution_count": 10,
   "metadata": {},
   "outputs": [],
   "source": [
    "def bigrams2unigrams(bigrams):\n",
    "    return {w1: sum([float(bigrams[w1][w2]) for w2 in bigrams[w1]])/2 for w1 in bigrams}\n",
    "unigrams = bigrams2unigrams(bigrams)"
   ]
  },
  {
   "cell_type": "code",
   "execution_count": 11,
   "metadata": {},
   "outputs": [],
   "source": [
    "def getProb(word):\n",
    "    if word in unigrams:\n",
    "        return unigrams[word]*10\n",
    "    return 0.001\n",
    "\n",
    "def getRandWord(words):\n",
    "    probs = np.array([getProb(x) for x in words])\n",
    "    probs = probs / np.sum(probs)\n",
    "    return str(np.random.choice(words, 1, p=probs)[0])\n",
    "\n",
    "def getRandomSentence(model):\n",
    "\n",
    "    sent = stringNorm(model).split()\n",
    "    sentCodes = [(word2tag[x] if x in word2tag \n",
    "                  else (print(f\"***Nie znaleziono takiego słowa: {x}***\"),\n",
    "                        word2tag[('^' + x)[-3:]])[1]) \n",
    "                 for x in sent]\n",
    "    altWords = [tag2word[x] for x in sentCodes]\n",
    "    newSentence = [getRandWord(x) for x in altWords]\n",
    "    return ' '.join(newSentence)"
   ]
  },
  {
   "cell_type": "code",
   "execution_count": 12,
   "metadata": {},
   "outputs": [],
   "source": [
    "sentenceList = [\n",
    "    \"Mały Piotruś spotkał w niewielkiej restauracyjce wczoraj poznaną koleżankę.\",\n",
    "    \"Zbyt zabawne było powstrzymywanie się od śmiechu żeby to zrobić\",\n",
    "    \"Dawno nie piła tak dobrego, świeżego mleka\",\n",
    "    \"Niestety komputer postanowił odmówić posłuszeństwa\",\n",
    "    \"Mama Darka Czuje Ból Na pewno Musi Wypoczywać. \",\n",
    "    \"Idę do sklepu kupić nowe spodnie\",\n",
    "    \"Kyeloger wywalił renderowanie filmów\"\n",
    "]\n",
    "                "
   ]
  },
  {
   "cell_type": "code",
   "execution_count": 14,
   "metadata": {},
   "outputs": [
    {
     "name": "stdout",
     "output_type": "stream",
     "text": [
      "Mały Piotruś spotkał w niewielkiej restauracyjce wczoraj poznaną koleżankę. \n",
      " bezpłatny pan zachował za nierdzewnej rzece oraz związaną infekcję \n",
      "\n",
      "Zbyt zabawne było powstrzymywanie się od śmiechu żeby to zrobić \n",
      " przykład polskie zostało podjęcie do z sojuszu się to przeczytać \n",
      "\n",
      "Dawno nie piła tak dobrego, świeżego mleka \n",
      " w nie piła tutaj międzynarodowego całego rozwiązania \n",
      "\n",
      "Niestety komputer postanowił odmówić posłuszeństwa \n",
      " w wkład przyjął nacisnąć doradztwa \n",
      "\n",
      "Mama Darka Czuje Ból Na pewno Musi Wypoczywać.  \n",
      " dziewczyna kontrolera chodzi ból a a musi sięgać \n",
      "\n",
      "Idę do sklepu kupić nowe spodnie \n",
      " ciążę o urzędu uzyskać konkretne spodnie \n",
      "\n",
      "***Nie znaleziono takiego słowa: kyeloger***\n",
      "***Nie znaleziono takiego słowa: renderowanie***\n",
      "Kyeloger wywalił renderowanie filmów \n",
      " projekt otrzymał nie murów \n",
      "\n"
     ]
    }
   ],
   "source": [
    "for model in sentenceList:\n",
    "    print(model,'\\n',getRandomSentence(model),'\\n')"
   ]
  },
  {
   "cell_type": "markdown",
   "metadata": {},
   "source": [
    "# z4"
   ]
  },
  {
   "cell_type": "code",
   "execution_count": 5,
   "metadata": {},
   "outputs": [
    {
     "name": "stdout",
     "output_type": "stream",
     "text": [
      "0\n",
      "1000000\n",
      "2000000\n",
      "3000000\n",
      "4000000\n",
      "5000000\n",
      "6000000\n",
      "7000000\n",
      "8000000\n",
      "9000000\n",
      "10000000\n",
      "11000000\n",
      "12000000\n",
      "13000000\n",
      "14000000\n",
      "15000000\n",
      "16000000\n",
      "17000000\n",
      "18000000\n",
      "19000000\n",
      "20000000\n",
      "21000000\n",
      "22000000\n",
      "23000000\n",
      "24000000\n",
      "25000000\n",
      "26000000\n",
      "27000000\n",
      "28000000\n",
      "29000000\n",
      "30000000\n",
      "31000000\n",
      "32000000\n",
      "33000000\n",
      "34000000\n",
      "35000000\n",
      "36000000\n",
      "37000000\n",
      "38000000\n",
      "39000000\n",
      "40000000\n",
      "41000000\n",
      "42000000\n",
      "43000000\n",
      "44000000\n",
      "45000000\n",
      "46000000\n",
      "47000000\n",
      "48000000\n",
      "49000000\n",
      "50000000\n",
      "51000000\n",
      "52000000\n",
      "53000000\n",
      "54000000\n",
      "55000000\n",
      "56000000\n",
      "57000000\n",
      "58000000\n",
      "59000000\n"
     ]
    }
   ],
   "source": [
    "import os\n",
    "os.sys.path.append('../1/')\n",
    "from z2 import loader\n",
    "bigrams = loader('../1/poleval_2grams.txt', cut = 10)"
   ]
  },
  {
   "cell_type": "code",
   "execution_count": 6,
   "metadata": {},
   "outputs": [],
   "source": [
    "def getProb2(word, prev):\n",
    "    if word in bigrams[prev]:\n",
    "#         print('aa: ', bigrams[prev][word])\n",
    "        return bigrams[prev][word]\n",
    "    return 0.001\n",
    "\n",
    "def getRandWord2(words, prev):\n",
    "    probs = np.array([getProb2(x, prev) for x in words]).astype(float)\n",
    "    probs = probs / np.sum(probs)\n",
    "    return str(np.random.choice(words, 1, p=probs)[0])"
   ]
  },
  {
   "cell_type": "code",
   "execution_count": 7,
   "metadata": {},
   "outputs": [],
   "source": [
    "def getRandomSentenceBi(model):\n",
    "    sent = stringNorm(model).split()\n",
    "    sentCodes = [(word2tag[x] if x in word2tag \n",
    "                  else (print(f\"***Nie znaleziono takiego słowa: {x}***\"),\n",
    "                        word2tag[('^' + x)[-3:]])[1]) \n",
    "                 for x in sent]\n",
    "    altWords = [tag2word[x] for x in sentCodes]\n",
    "    \n",
    "    i = 0\n",
    "    newSentence = []\n",
    "    \n",
    "    while i < len(altWords):\n",
    "        grammWords = set(altWords[i])\n",
    "        bigramWords = {y for y in bigrams}\n",
    "        goodWords = grammWords.intersection(bigramWords)\n",
    "        x = getRandWord(list(goodWords))\n",
    "        newSentence.append(x)\n",
    "        i+=1\n",
    "        while x in bigrams and i < len(altWords):\n",
    "            grammWords = set(altWords[i])\n",
    "            bigramWords = {y for y in bigrams[x]}\n",
    "            goodWords = grammWords.intersection(bigramWords)\n",
    "            if len(goodWords) <1:\n",
    "                break\n",
    "            x = getRandWord2(list(goodWords), x)\n",
    "            newSentence.append(x)\n",
    "            i+=1\n",
    "\n",
    "        newSentence.append('|')\n",
    "        \n",
    "    return ' '.join(newSentence[:-1])"
   ]
  },
  {
   "cell_type": "code",
   "execution_count": 15,
   "metadata": {},
   "outputs": [
    {
     "name": "stdout",
     "output_type": "stream",
     "text": [
      "Mały Piotruś spotkał w niewielkiej restauracyjce wczoraj poznaną koleżankę. \n",
      " ważny partner | poinformował o niewystarczającej liczbie około | kierowaną | izbę \n",
      "\n",
      "Zbyt zabawne było powstrzymywanie się od śmiechu żeby to zrobić \n",
      " spadek | średnie | zostało rozporządzenie z i stylu w to ograniczyć \n",
      "\n",
      "Dawno nie piła tak dobrego, świeżego mleka \n",
      " do nie piła | czy innego miejscowego środowiska \n",
      "\n",
      "Niestety komputer postanowił odmówić posłuszeństwa \n",
      " za akt | przeniósł | powiedzieć | dziennikarstwa \n",
      "\n",
      "Mama Darka Czuje Ból Na pewno Musi Wypoczywać.  \n",
      " ustawa | trenera | chodzi | ból w znacznie | musi podlegać \n",
      "\n",
      "Idę do sklepu kupić nowe spodnie \n",
      " idę do rozłamu | stwierdzić | odwoławcze | spodnie \n",
      "\n",
      "***Nie znaleziono takiego słowa: kyeloger***\n",
      "***Nie znaleziono takiego słowa: renderowanie***\n",
      "Kyeloger wywalił renderowanie filmów \n",
      " system sprawdził | nie milionów \n",
      "\n"
     ]
    }
   ],
   "source": [
    "for model in sentenceList:\n",
    "    print(model,'\\n',getRandomSentenceBi(model),'\\n')"
   ]
  },
  {
   "cell_type": "code",
   "execution_count": null,
   "metadata": {},
   "outputs": [],
   "source": []
  },
  {
   "cell_type": "code",
   "execution_count": null,
   "metadata": {},
   "outputs": [],
   "source": []
  }
 ],
 "metadata": {
  "kernelspec": {
   "display_name": "Python 3",
   "language": "python",
   "name": "python3"
  },
  "language_info": {
   "codemirror_mode": {
    "name": "ipython",
    "version": 3
   },
   "file_extension": ".py",
   "mimetype": "text/x-python",
   "name": "python",
   "nbconvert_exporter": "python",
   "pygments_lexer": "ipython3",
   "version": "3.7.0"
  }
 },
 "nbformat": 4,
 "nbformat_minor": 2
}
