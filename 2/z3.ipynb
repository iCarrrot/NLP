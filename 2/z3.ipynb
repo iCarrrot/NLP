{
 "cells": [
  {
   "cell_type": "markdown",
   "metadata": {},
   "source": [
    "# z3"
   ]
  },
  {
   "cell_type": "code",
   "execution_count": null,
   "metadata": {},
   "outputs": [],
   "source": [
    "import re\n",
    "import numpy as np\n",
    "\n",
    "word2tag = dict()\n",
    "tag2word = dict()\n",
    "def stringNorm(sent, num=False):\n",
    "    regex = re.compile(f'[,\\.!?:;\\'{\"0-9\" if not num else \"\"}\\*\\-“…\\(\\)„”—»«–––=\\[\\]’]')\n",
    "    return regex.sub('',sent.lower())\n",
    "\n",
    "with open(\"data/supertags.txt\") as tags:\n",
    "    for line in tags:\n",
    "        word, tag = stringNorm(line, num=True).split()\n",
    "        word2tag[word] = tag\n",
    "        if tag in tag2word:\n",
    "            tag2word[tag].append(word)\n",
    "        else:\n",
    "            tag2word[tag] = [word]"
   ]
  },
  {
   "cell_type": "code",
   "execution_count": null,
   "metadata": {},
   "outputs": [],
   "source": [
    "def getRandomSentence(model):\n",
    "    def getProb(word):\n",
    "    #     TODO\n",
    "        return 1\n",
    "\n",
    "    def getRandWord(words):\n",
    "        probs = np.array([getProb(x) for x in words])\n",
    "        probs = probs / np.sum(probs)\n",
    "        return str(np.random.choice(words, 1, p=probs)[0])\n",
    "\n",
    "    sent = stringNorm(model).split()\n",
    "    sentCodes = [(word2tag[x] if x in word2tag \n",
    "                  else (print(f\"\\n***Nie znaleziono takiego słowa: {x}***\\n\"),\n",
    "                        word2tag[('^' + x)[-3:]])[1]) \n",
    "                 for x in sent]\n",
    "    altWords = [tag2word[x] for x in sentCodes]\n",
    "    newSentence = [getRandWord(x) for x in altWords]\n",
    "    return ' '.join(newSentence)"
   ]
  },
  {
   "cell_type": "code",
   "execution_count": null,
   "metadata": {},
   "outputs": [],
   "source": [
    "sentenceList = [\n",
    "    \"Mały Piotruś spotkał w niewielkiej restauracyjce wczoraj poznaną koleżankę.\",\n",
    "    \"Zbyt zabawne było powstrzymywanie się od śmiechu żeby to zrobić\",\n",
    "    \"Dawno nie piła tak dobrego, świeżego mleka\",\n",
    "    \"Niestety komputer postanowił odmówić posłuszeństwa\",\n",
    "    \"Mama Darka Czuje Ból Na pewno Musi Wypoczywać. \",\n",
    "    \"Idę do sklepu kupić nowe spodnie\",\n",
    "    \"Kyeloger wywalił renderowanie filmów\"\n",
    "]\n",
    "                "
   ]
  },
  {
   "cell_type": "code",
   "execution_count": null,
   "metadata": {},
   "outputs": [],
   "source": [
    "for model in sentenceList:\n",
    "    print(getRandomSentence(model))"
   ]
  },
  {
   "cell_type": "code",
   "execution_count": null,
   "metadata": {},
   "outputs": [],
   "source": []
  }
 ],
 "metadata": {
  "kernelspec": {
   "display_name": "Python 3",
   "language": "python",
   "name": "python3"
  },
  "language_info": {
   "codemirror_mode": {
    "name": "ipython",
    "version": 3
   },
   "file_extension": ".py",
   "mimetype": "text/x-python",
   "name": "python",
   "nbconvert_exporter": "python",
   "pygments_lexer": "ipython3",
   "version": "3.7.0"
  }
 },
 "nbformat": 4,
 "nbformat_minor": 2
}
