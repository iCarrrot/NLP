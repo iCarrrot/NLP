{
 "cells": [
  {
   "cell_type": "code",
   "execution_count": 1,
   "metadata": {},
   "outputs": [],
   "source": [
    "import random\n",
    "import numpy as np\n",
    "import matplotlib.pyplot as plt\n",
    "\n",
    "p={}\n",
    "p[0] = 0.04\n",
    "p[1] = 0.05\n",
    "num = 10000\n",
    "pD = {}\n",
    "pD[0] = [1./6 for i in range(6)]\n",
    "pD[1] = [1./10 for i in range(5)] + [0.5]\n",
    "currD = 0\n",
    "\n"
   ]
  },
  {
   "cell_type": "code",
   "execution_count": 8,
   "metadata": {},
   "outputs": [],
   "source": [
    "def heuristic(data, interval):\n",
    "    col = []\n",
    "    for i in range(len(data)):\n",
    "        if count_six(data[max(i-interval,0):min(i+interval, len(data))])>interval//2 + interval/6: #4*interval/6:\n",
    "            col.append('r')\n",
    "        else:\n",
    "            col.append('g')\n",
    "            \n",
    "    return col\n",
    "\n",
    "def count_six(data):\n",
    "    res = 0\n",
    "    for i in data:\n",
    "        if i == 6:\n",
    "            res+=1\n",
    "    return res"
   ]
  },
  {
   "cell_type": "code",
   "execution_count": 14,
   "metadata": {},
   "outputs": [
    {
     "name": "stdout",
     "output_type": "stream",
     "text": [
      "1 0.1326\n",
      "2 0.1395\n",
      "3 0.1403\n",
      "4 0.1374\n",
      "5 0.1362\n",
      "6 0.314\n"
     ]
    }
   ],
   "source": [
    "results = np.zeros(num)\n",
    "color = list(range(num))\n",
    "for i in range(num):\n",
    "    currD = currD^1 if random.random() < p[currD] else currD\n",
    "    results[i] = np.random.choice(6,1, p=pD[currD])[0]\n",
    "    color[i] = 'r' if currD else 'g'\n",
    "results+=1\n",
    "color = np.array(color)\n",
    "for i in range(6):\n",
    "    print(i+1, np.sum(results==(i+1)) / num)\n",
    "# plt.bar(range(num), results, color=color)"
   ]
  },
  {
   "cell_type": "code",
   "execution_count": 19,
   "metadata": {
    "scrolled": false
   },
   "outputs": [
    {
     "name": "stdout",
     "output_type": "stream",
     "text": [
      "7:\t0.8184\n",
      "8:\t0.8163\n"
     ]
    },
    {
     "data": {
      "image/png": "[encoded data removed]",
      "text/plain": [
       "<Figure size 432x288 with 1 Axes>"
      ]
     },
     "metadata": {
      "needs_background": "light"
     },
     "output_type": "display_data"
    }
   ],
   "source": [
    "for i in range(7,9, 1):\n",
    "    new_color = heuristic(results,i)\n",
    "    new_color = np.array(new_color)\n",
    "    score = np.sum(color==new_color)/len(results)\n",
    "    if score > 0.8:\n",
    "        print(f'{i}:\\t{score}')\n",
    "    # plt.bar(range(num), results, color=new_color)\n",
    "    plt.scatter(np.arange(num), np.zeros(num), c = color==new_color, marker='.')\n"
   ]
  },
  {
   "cell_type": "code",
   "execution_count": 5,
   "metadata": {},
   "outputs": [
    {
     "ename": "NameError",
     "evalue": "name 'a' is not defined",
     "output_type": "error",
     "traceback": [
      "\u001b[0;31m---------------------------------------------------------------------------\u001b[0m",
      "\u001b[0;31mNameError\u001b[0m                                 Traceback (most recent call last)",
      "\u001b[0;32m<ipython-input-5-3f786850e387>\u001b[0m in \u001b[0;36m<module>\u001b[0;34m()\u001b[0m\n\u001b[0;32m----> 1\u001b[0;31m \u001b[0ma\u001b[0m\u001b[0;34m\u001b[0m\u001b[0m\n\u001b[0m",
      "\u001b[0;31mNameError\u001b[0m: name 'a' is not defined"
     ]
    }
   ],
   "source": [
    "a"
   ]
  }
 ],
 "metadata": {
  "kernelspec": {
   "display_name": "Python 3",
   "language": "python",
   "name": "python3"
  },
  "language_info": {
   "codemirror_mode": {
    "name": "ipython",
    "version": 3
   },
   "file_extension": ".py",
   "mimetype": "text/x-python",
   "name": "python",
   "nbconvert_exporter": "python",
   "pygments_lexer": "ipython3",
   "version": "3.7.0"
  }
 },
 "nbformat": 4,
 "nbformat_minor": 2
}
