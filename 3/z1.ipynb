{
 "cells": [
  {
   "cell_type": "code",
   "execution_count": 1,
   "metadata": {},
   "outputs": [
    {
     "data": {
      "text/plain": [
       "'Malaga zrodlo Dozz-eq\"'"
      ]
     },
     "execution_count": 1,
     "metadata": {},
     "output_type": "execute_result"
    }
   ],
   "source": [
    "import unidecode\n",
    "accented_string = u'Málaga żródło Dóżź←ęq\"'\n",
    "# accented_string is of type 'unicode'\n",
    "\n",
    "unaccented_string = unidecode.unidecode(accented_string)\n",
    "unaccented_string"
   ]
  },
  {
   "cell_type": "code",
   "execution_count": 3,
   "metadata": {},
   "outputs": [],
   "source": [
    "def remove_nonalpha(s):\n",
    "    return ''.join(filter(str.isalnum, s))\n",
    "\n",
    "def normalize(s):\n",
    "    return remove_nonalpha(unidecode.unidecode(s).lower())\n",
    "    \n",
    "def loader(fname, cut = 0, top = float('inf')):\n",
    "    data = dict()\n",
    "    decodeData = {}\n",
    "    with open(fname, 'r') as f:\n",
    "        i=0\n",
    "        for x in f:\n",
    "            if not i%1000000:\n",
    "                print(i)\n",
    "            i+=1\n",
    "            if i > top:\n",
    "                break\n",
    "            num, key, key2 = x.split()\n",
    "            \n",
    "            if int(num) > cut:\n",
    "                d_key1 = normalize(key)\n",
    "                d_key2 = normalize(key2)\n",
    "                \n",
    "                if d_key1 not in decodeData:\n",
    "                    decodeData[d_key1] = set()\n",
    "                    \n",
    "                if d_key2 not in decodeData:\n",
    "                    decodeData[d_key2] = set()\n",
    "                \n",
    "                decodeData[d_key1].add(remove_nonalpha(key))\n",
    "                decodeData[d_key2].add(remove_nonalpha(key2))\n",
    "                    \n",
    "                if key not in data:\n",
    "                    data[key]=dict()\n",
    "                data[key][key2] = num\n",
    "    return data, decodeData"
   ]
  },
  {
   "cell_type": "code",
   "execution_count": 8,
   "metadata": {},
   "outputs": [
    {
     "ename": "OSError",
     "evalue": "[Errno 512] Unknown error 512: '/pio/data/data/en_wiki_20160113/vectors-200.txt'",
     "output_type": "error",
     "traceback": [
      "\u001b[0;31m---------------------------------------------------------------------------\u001b[0m",
      "\u001b[0;31mOSError\u001b[0m                                   Traceback (most recent call last)",
      "\u001b[0;32m<ipython-input-8-ab6d41b9d1b5>\u001b[0m in \u001b[0;36m<module>\u001b[0;34m()\u001b[0m\n\u001b[0;32m----> 1\u001b[0;31m \u001b[0md\u001b[0m \u001b[0;34m=\u001b[0m \u001b[0mloader\u001b[0m\u001b[0;34m(\u001b[0m\u001b[0;34m'/pio/data/data/en_wiki_20160113/vectors-200.txt'\u001b[0m\u001b[0;34m)\u001b[0m\u001b[0;34m\u001b[0m\u001b[0m\n\u001b[0m",
      "\u001b[0;32m<ipython-input-3-b95dbc97f5be>\u001b[0m in \u001b[0;36mloader\u001b[0;34m(fname, cut, top)\u001b[0m\n\u001b[1;32m      8\u001b[0m     \u001b[0mdata\u001b[0m \u001b[0;34m=\u001b[0m \u001b[0mdict\u001b[0m\u001b[0;34m(\u001b[0m\u001b[0;34m)\u001b[0m\u001b[0;34m\u001b[0m\u001b[0m\n\u001b[1;32m      9\u001b[0m     \u001b[0mdecodeData\u001b[0m \u001b[0;34m=\u001b[0m \u001b[0;34m{\u001b[0m\u001b[0;34m}\u001b[0m\u001b[0;34m\u001b[0m\u001b[0m\n\u001b[0;32m---> 10\u001b[0;31m     \u001b[0;32mwith\u001b[0m \u001b[0mopen\u001b[0m\u001b[0;34m(\u001b[0m\u001b[0mfname\u001b[0m\u001b[0;34m,\u001b[0m \u001b[0;34m'r'\u001b[0m\u001b[0;34m)\u001b[0m \u001b[0;32mas\u001b[0m \u001b[0mf\u001b[0m\u001b[0;34m:\u001b[0m\u001b[0;34m\u001b[0m\u001b[0m\n\u001b[0m\u001b[1;32m     11\u001b[0m         \u001b[0mi\u001b[0m\u001b[0;34m=\u001b[0m\u001b[0;36m0\u001b[0m\u001b[0;34m\u001b[0m\u001b[0m\n\u001b[1;32m     12\u001b[0m         \u001b[0;32mfor\u001b[0m \u001b[0mx\u001b[0m \u001b[0;32min\u001b[0m \u001b[0mf\u001b[0m\u001b[0;34m:\u001b[0m\u001b[0;34m\u001b[0m\u001b[0m\n",
      "\u001b[0;31mOSError\u001b[0m: [Errno 512] Unknown error 512: '/pio/data/data/en_wiki_20160113/vectors-200.txt'"
     ]
    }
   ],
   "source": [
    "d = loader('/pio/data/data/en_wiki_20160113/vectors-200.txt')"
   ]
  }
 ],
 "metadata": {
  "kernelspec": {
   "display_name": "Python 3",
   "language": "python",
   "name": "python3"
  },
  "language_info": {
   "codemirror_mode": {
    "name": "ipython",
    "version": 3
   },
   "file_extension": ".py",
   "mimetype": "text/x-python",
   "name": "python",
   "nbconvert_exporter": "python",
   "pygments_lexer": "ipython3",
   "version": "3.6.3"
  }
 },
 "nbformat": 4,
 "nbformat_minor": 2
}
