{
 "cells": [
  {
   "cell_type": "code",
   "execution_count": 3,
   "metadata": {},
   "outputs": [
    {
     "data": {
      "text/plain": [
       "'Malaga zrodlo Dozz-eq\"'"
      ]
     },
     "execution_count": 3,
     "metadata": {},
     "output_type": "execute_result"
    }
   ],
   "source": [
    "# !pip install --user unidecode\n",
    "import unidecode\n",
    "import random\n",
    "accented_string = u'Málaga żródło Dóżź←ęq\"'\n",
    "# accented_string is of type 'unicode'\n",
    "\n",
    "unaccented_string = unidecode.unidecode(accented_string)\n",
    "unaccented_string"
   ]
  },
  {
   "cell_type": "code",
   "execution_count": 4,
   "metadata": {
    "collapsed": true
   },
   "outputs": [],
   "source": [
    "def remove_nonalpha(s):\n",
    "    return ''.join(filter(str.isalnum, s))\n",
    "\n",
    "def normalize(s):\n",
    "    return remove_nonalpha(unidecode.unidecode(s).lower())\n",
    "    \n",
    "def loader(fname, cut = 0, top = float('inf')):\n",
    "    data = dict()\n",
    "    decodeData = {}\n",
    "    with open(fname, 'r') as f:\n",
    "        i=0\n",
    "        for x in f:\n",
    "            if not i%1000000:\n",
    "                print(i)\n",
    "            i+=1\n",
    "            if i > top:\n",
    "                break\n",
    "            num, key, key2 = x.split()\n",
    "            \n",
    "            if int(num) > cut:\n",
    "                d_key1 = normalize(key)\n",
    "                d_key2 = normalize(key2)\n",
    "                \n",
    "                if d_key1 not in decodeData:\n",
    "                    decodeData[d_key1] = dict()\n",
    "                    \n",
    "                if d_key2 not in decodeData:\n",
    "                    decodeData[d_key2] = dict()\n",
    "                \n",
    "                if remove_nonalpha(key) not in decodeData[d_key1]:\n",
    "                    decodeData[d_key1][remove_nonalpha(key)] = 0\n",
    "                else:\n",
    "                    decodeData[d_key1][remove_nonalpha(key)] += 1\n",
    "                \n",
    "                if remove_nonalpha(key2) not in decodeData[d_key2]:\n",
    "                    decodeData[d_key2][remove_nonalpha(key2)] = 0\n",
    "                else:\n",
    "                    decodeData[d_key2][remove_nonalpha(key2)] += 1\n",
    "                \n",
    "                if key not in data:\n",
    "                    data[key]=dict()\n",
    "                data[key][key2] = num\n",
    "    return data, decodeData\n",
    "\n",
    "def get_corpus(fname):\n",
    "    return open(fname).read().split()"
   ]
  },
  {
   "cell_type": "code",
   "execution_count": 5,
   "metadata": {},
   "outputs": [
    {
     "ename": "FileNotFoundError",
     "evalue": "[Errno 2] No such file or directory: '/pio/data/data/poleval_polish_corpora/poleval_2grams.txt'",
     "output_type": "error",
     "traceback": [
      "\u001b[0;31m---------------------------------------------------------------------------\u001b[0m",
      "\u001b[0;31mFileNotFoundError\u001b[0m                         Traceback (most recent call last)",
      "\u001b[0;32m<ipython-input-5-aaa9c7249c37>\u001b[0m in \u001b[0;36m<module>\u001b[0;34m()\u001b[0m\n\u001b[0;32m----> 1\u001b[0;31m \u001b[0md1\u001b[0m\u001b[0;34m,\u001b[0m \u001b[0md2\u001b[0m \u001b[0;34m=\u001b[0m \u001b[0mloader\u001b[0m\u001b[0;34m(\u001b[0m\u001b[0;34m'/pio/data/data/poleval_polish_corpora/poleval_2grams.txt'\u001b[0m\u001b[0;34m)\u001b[0m\u001b[0;34m\u001b[0m\u001b[0m\n\u001b[0m\u001b[1;32m      2\u001b[0m \u001b[0mcorpus\u001b[0m \u001b[0;34m=\u001b[0m \u001b[0mget_corpus\u001b[0m\u001b[0;34m(\u001b[0m\u001b[0;34m'/pio/data/data/poleval_polish_corpora/polish_corpora.txt'\u001b[0m\u001b[0;34m)\u001b[0m\u001b[0;34m\u001b[0m\u001b[0m\n",
      "\u001b[0;32m<ipython-input-4-8848071930d5>\u001b[0m in \u001b[0;36mloader\u001b[0;34m(fname, cut, top)\u001b[0m\n\u001b[1;32m      8\u001b[0m     \u001b[0mdata\u001b[0m \u001b[0;34m=\u001b[0m \u001b[0mdict\u001b[0m\u001b[0;34m(\u001b[0m\u001b[0;34m)\u001b[0m\u001b[0;34m\u001b[0m\u001b[0m\n\u001b[1;32m      9\u001b[0m     \u001b[0mdecodeData\u001b[0m \u001b[0;34m=\u001b[0m \u001b[0;34m{\u001b[0m\u001b[0;34m}\u001b[0m\u001b[0;34m\u001b[0m\u001b[0m\n\u001b[0;32m---> 10\u001b[0;31m     \u001b[0;32mwith\u001b[0m \u001b[0mopen\u001b[0m\u001b[0;34m(\u001b[0m\u001b[0mfname\u001b[0m\u001b[0;34m,\u001b[0m \u001b[0;34m'r'\u001b[0m\u001b[0;34m)\u001b[0m \u001b[0;32mas\u001b[0m \u001b[0mf\u001b[0m\u001b[0;34m:\u001b[0m\u001b[0;34m\u001b[0m\u001b[0m\n\u001b[0m\u001b[1;32m     11\u001b[0m         \u001b[0mi\u001b[0m\u001b[0;34m=\u001b[0m\u001b[0;36m0\u001b[0m\u001b[0;34m\u001b[0m\u001b[0m\n\u001b[1;32m     12\u001b[0m         \u001b[0;32mfor\u001b[0m \u001b[0mx\u001b[0m \u001b[0;32min\u001b[0m \u001b[0mf\u001b[0m\u001b[0;34m:\u001b[0m\u001b[0;34m\u001b[0m\u001b[0m\n",
      "\u001b[0;31mFileNotFoundError\u001b[0m: [Errno 2] No such file or directory: '/pio/data/data/poleval_polish_corpora/poleval_2grams.txt'"
     ]
    }
   ],
   "source": [
    "d1, d2 = loader('/pio/data/data/poleval_polish_corpora/poleval_2grams.txt')\n",
    "corpus = get_corpus('/pio/data/data/poleval_polish_corpora/polish_corpora.txt')"
   ]
  },
  {
   "cell_type": "code",
   "execution_count": null,
   "metadata": {
    "collapsed": true
   },
   "outputs": [],
   "source": []
  },
  {
   "cell_type": "code",
   "execution_count": null,
   "metadata": {
    "collapsed": true
   },
   "outputs": [],
   "source": []
  }
 ],
 "metadata": {
  "kernelspec": {
   "display_name": "Python 3",
   "language": "python",
   "name": "python3"
  },
  "language_info": {
   "codemirror_mode": {
    "name": "ipython",
    "version": 3
   },
   "file_extension": ".py",
   "mimetype": "text/x-python",
   "name": "python",
   "nbconvert_exporter": "python",
   "pygments_lexer": "ipython3",
   "version": "3.7.0"
  }
 },
 "nbformat": 4,
 "nbformat_minor": 2
}
