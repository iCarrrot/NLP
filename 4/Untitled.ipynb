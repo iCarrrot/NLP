{
 "cells": [
  {
   "cell_type": "code",
   "execution_count": 1,
   "metadata": {},
   "outputs": [],
   "source": [
    "import sys\n",
    "\n",
    "sys.path.extend([\n",
    "    '/home/michal',\n",
    "    '/usr/lib/python36.zip',\n",
    "    '/usr/lib/python3.6',\n",
    "    '/usr/lib/python3.6/lib-dynload',\n",
    "    '/home/michal/.local/lib/python3.6/site-packages',\n",
    "    '/usr/local/lib/python3.6/dist-packages',\n",
    "    '/usr/lib/python3/dist-packages',\n",
    " ])\n",
    "\n"
   ]
  },
  {
   "cell_type": "code",
   "execution_count": 22,
   "metadata": {},
   "outputs": [],
   "source": [
    "import morfeusz2\n",
    "morf=morfeusz2.Morfeusz()\n",
    "def get_tags(word):\n",
    "    res=[]\n",
    "    for beg,end,des in morf.analyse(word):\n",
    "        orth,base,tag,p1,p2=des\n",
    "        res+=morf._expand_tag(tag)\n",
    "    return res"
   ]
  },
  {
   "cell_type": "code",
   "execution_count": 18,
   "metadata": {},
   "outputs": [],
   "source": [
    "GENDERS=set(['m1','m2','m3','f','n1','n2'])\n",
    "def gender(noun):\n",
    "    for tag in get_tags(noun):\n",
    "        ts=tag.split(':')\n",
    "        for t in ts:\n",
    "            if t in GENDERS:\n",
    "                return t\n",
    "    return '?'"
   ]
  },
  {
   "cell_type": "code",
   "execution_count": 20,
   "metadata": {},
   "outputs": [],
   "source": [
    "def genLPR(word,L,P,R):\n",
    "    candidates=morf.generate(word)\n",
    "    for w,base,tags,p1,p2 in candidates:\n",
    "        for tag in morf._expand_tag(tags):\n",
    "            ts=tag.split(':')\n",
    "            if L in ts and P in ts and R in ts:\n",
    "                return w # UWAGASTOPIEN\n",
    "    return '?'+word"
   ]
  },
  {
   "cell_type": "code",
   "execution_count": 30,
   "metadata": {},
   "outputs": [
    {
     "data": {
      "text/plain": [
       "['subst:sg:gen:f',\n",
       " 'subst:pl:nom:f',\n",
       " 'subst:pl:acc:f',\n",
       " 'subst:pl:voc:f',\n",
       " 'fin:pl:pri:imperf']"
      ]
     },
     "execution_count": 30,
     "metadata": {},
     "output_type": "execute_result"
    }
   ],
   "source": [
    "get_tags('mamy')"
   ]
  },
  {
   "cell_type": "code",
   "execution_count": 33,
   "metadata": {},
   "outputs": [
    {
     "data": {
      "text/plain": [
       "'?mamy'"
      ]
     },
     "execution_count": 33,
     "metadata": {},
     "output_type": "execute_result"
    }
   ],
   "source": [
    "genLPR('mamy','pl','nom','f')"
   ]
  },
  {
   "cell_type": "code",
   "execution_count": 42,
   "metadata": {},
   "outputs": [
    {
     "data": {
      "text/plain": [
       "['subst:pl:loc:m2',\n",
       " 'subst:pl:loc:f',\n",
       " 'subst:pl:loc:n',\n",
       " 'subst:pl:loc:m1',\n",
       " 'subst:pl:loc:m3',\n",
       " 'subst:pl:inst:m2',\n",
       " 'subst:pl:inst:f',\n",
       " 'subst:pl:inst:n',\n",
       " 'subst:pl:inst:m1',\n",
       " 'subst:pl:inst:m3',\n",
       " 'subst:pl:acc:m2',\n",
       " 'subst:pl:acc:f',\n",
       " 'subst:pl:acc:n',\n",
       " 'subst:pl:acc:m1',\n",
       " 'subst:pl:acc:m3',\n",
       " 'subst:pl:dat:m2',\n",
       " 'subst:pl:dat:f',\n",
       " 'subst:pl:dat:n',\n",
       " 'subst:pl:dat:m1',\n",
       " 'subst:pl:dat:m3',\n",
       " 'subst:pl:nom:m2',\n",
       " 'subst:pl:nom:f',\n",
       " 'subst:pl:nom:n',\n",
       " 'subst:pl:nom:m1',\n",
       " 'subst:pl:nom:m3',\n",
       " 'subst:pl:gen:m2',\n",
       " 'subst:pl:gen:f',\n",
       " 'subst:pl:gen:n',\n",
       " 'subst:pl:gen:m1',\n",
       " 'subst:pl:gen:m3',\n",
       " 'subst:sg:loc:m2',\n",
       " 'subst:sg:loc:f',\n",
       " 'subst:sg:loc:n',\n",
       " 'subst:sg:loc:m1',\n",
       " 'subst:sg:loc:m3',\n",
       " 'subst:sg:inst:m2',\n",
       " 'subst:sg:inst:f',\n",
       " 'subst:sg:inst:n',\n",
       " 'subst:sg:inst:m1',\n",
       " 'subst:sg:inst:m3',\n",
       " 'subst:sg:acc:m2',\n",
       " 'subst:sg:acc:f',\n",
       " 'subst:sg:acc:n',\n",
       " 'subst:sg:acc:m1',\n",
       " 'subst:sg:acc:m3',\n",
       " 'subst:sg:dat:m2',\n",
       " 'subst:sg:dat:f',\n",
       " 'subst:sg:dat:n',\n",
       " 'subst:sg:dat:m1',\n",
       " 'subst:sg:dat:m3',\n",
       " 'subst:sg:nom:m2',\n",
       " 'subst:sg:nom:f',\n",
       " 'subst:sg:nom:n',\n",
       " 'subst:sg:nom:m1',\n",
       " 'subst:sg:nom:m3',\n",
       " 'subst:sg:gen:m2',\n",
       " 'subst:sg:gen:f',\n",
       " 'subst:sg:gen:n',\n",
       " 'subst:sg:gen:m1',\n",
       " 'subst:sg:gen:m3']"
      ]
     },
     "execution_count": 42,
     "metadata": {},
     "output_type": "execute_result"
    }
   ],
   "source": [
    "import collections\n",
    "generator = collections.defaultdict(list)\n",
    "# generator['S'] += [[('NP', {}),('V', {}), ('NP', {'P':'gen'})]]\n",
    "# generator['NP'] += [()]\n",
    "\"\"\"\n",
    "NP := rzeczownik(L,P,R) | przymiotnik(L,P,R), rzeczownik(L,P,R) | rzeczownik(L,P,R), przymiotnik(L,P,R)\n",
    "\n",
    "\"\"\"\n",
    "liczba = {'sg', 'pl'}\n",
    "przypadek = {'nom', 'acc', 'gen', 'dat', 'loc', 'inst' }\n",
    "rodzaj = {'m1', 'm2', 'm3', 'f', 'n'}\n",
    "\n",
    "\n",
    "\n",
    "\n",
    "def rzeczownik(L,P,R):\n",
    "    _liczba = list(liczba) if L[0] == '_' else L\n",
    "    _przypadek = list(przypadek) if P[0] == '_' else P\n",
    "    _rodzaj = list(rodzaj) if R[0] == '_' else R\n",
    "    _czesc = ['subst']\n",
    "    return [f'{c}:{l}:{p}:{r}' for c in _czesc for l in _liczba for p in _przypadek for r in _rodzaj]\n",
    "\n",
    "\n",
    "rzeczownik(*([['_']] * 3) )\n",
    "    "
   ]
  },
  {
   "cell_type": "code",
   "execution_count": 41,
   "metadata": {},
   "outputs": [
    {
     "data": {
      "text/plain": [
       "[['_', '_', '_']]"
      ]
     },
     "execution_count": 41,
     "metadata": {},
     "output_type": "execute_result"
    }
   ],
   "source": [
    "[['_'] * 3]"
   ]
  }
 ],
 "metadata": {
  "kernelspec": {
   "display_name": "Python 3",
   "language": "python",
   "name": "python3"
  },
  "language_info": {
   "codemirror_mode": {
    "name": "ipython",
    "version": 3
   },
   "file_extension": ".py",
   "mimetype": "text/x-python",
   "name": "python",
   "nbconvert_exporter": "python",
   "pygments_lexer": "ipython3",
   "version": "3.6.8"
  }
 },
 "nbformat": 4,
 "nbformat_minor": 2
}
